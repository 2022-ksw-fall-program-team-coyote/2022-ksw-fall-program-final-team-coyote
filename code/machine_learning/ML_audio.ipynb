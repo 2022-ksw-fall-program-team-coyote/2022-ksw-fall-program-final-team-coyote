{
 "cells": [
  {
   "cell_type": "code",
   "execution_count": 23,
   "id": "ac7810f6",
   "metadata": {},
   "outputs": [],
   "source": [
    "#import all library\n",
    "import os\n",
    "import re\n",
    "import numpy as np\n",
    "import pandas as pd\n",
    "import librosa\n",
    "from sklearn.neural_network import MLPClassifier\n",
    "from sklearn.neighbors import KNeighborsClassifier\n",
    "from sklearn import svm\n",
    "from sklearn.naive_bayes import GaussianNB\n",
    "from sklearn.model_selection import train_test_split\n",
    "from sklearn.preprocessing import StandardScaler\n",
    "from sklearn.metrics import mean_squared_error\n",
    "from sklearn.metrics import classification_report\n",
    "from sklearn.metrics import log_loss\n",
    "from sklearn.metrics import accuracy_score\n",
    "from sklearn import metrics\n",
    "import scipy.io.wavfile\n",
    "import spafe.utils.vis as vis\n",
    "from spafe.features.gfcc import gfcc\n",
    "import warnings\n",
    "warnings.filterwarnings('ignore')"
   ]
  },
  {
   "cell_type": "code",
   "execution_count": 16,
   "id": "81bf380c",
   "metadata": {},
   "outputs": [],
   "source": [
    "train_csv=pd.read_csv(\"../../dataset/train.csv\") #read the train csv file\n",
    "test_csv=pd.read_csv(\"../../dataset/test.csv\") #read the test csv file"
   ]
  },
  {
   "cell_type": "markdown",
   "id": "b264a138",
   "metadata": {},
   "source": [
    "## USER has to initialize these variables when changing feature extraction methods"
   ]
  },
  {
   "cell_type": "code",
   "execution_count": 33,
   "id": "72c2cca5",
   "metadata": {},
   "outputs": [],
   "source": [
    "# array initialization\n",
    "x_train=[]\n",
    "x_test=[]\n",
    "y_train=[]\n",
    "y_test=[]"
   ]
  },
  {
   "cell_type": "markdown",
   "id": "c84fb2d7",
   "metadata": {},
   "source": [
    "## USER INPUT: You can change sampling rate here. Please input 8000 or 16000."
   ]
  },
  {
   "cell_type": "code",
   "execution_count": 18,
   "id": "cb0be535",
   "metadata": {},
   "outputs": [],
   "source": [
    "sr = 16000 #set sampling rate OPTION : 8000 / 16000"
   ]
  },
  {
   "cell_type": "markdown",
   "id": "d7804331",
   "metadata": {},
   "source": [
    "# OPTION: USER has to run manually from here to change feature extraction methods\n",
    "### 4 OPTIONS : 1) MFCC  2) MEL SPECTROGRAM  3) LOG-MEL SPECTROGRAM  4)GTCC\n",
    "## Run the corresponding cell.\n",
    "\n",
    "## OPTION 1) Run this cell for MFCC"
   ]
  },
  {
   "cell_type": "code",
   "execution_count": 32,
   "id": "e1cdd019",
   "metadata": {},
   "outputs": [
    {
     "ename": "KeyboardInterrupt",
     "evalue": "",
     "output_type": "error",
     "traceback": [
      "\u001b[1;31m---------------------------------------------------------------------------\u001b[0m",
      "\u001b[1;31mKeyboardInterrupt\u001b[0m                         Traceback (most recent call last)",
      "\u001b[1;32m<ipython-input-32-7eeac34f29e6>\u001b[0m in \u001b[0;36m<module>\u001b[1;34m\u001b[0m\n\u001b[0;32m      1\u001b[0m \u001b[1;32mfor\u001b[0m \u001b[0midx\u001b[0m\u001b[1;33m,\u001b[0m \u001b[0mfile\u001b[0m \u001b[1;32min\u001b[0m \u001b[0menumerate\u001b[0m\u001b[1;33m(\u001b[0m\u001b[0mtrain_csv\u001b[0m\u001b[1;33m[\u001b[0m\u001b[1;34m'file_name'\u001b[0m\u001b[1;33m]\u001b[0m\u001b[1;33m)\u001b[0m\u001b[1;33m:\u001b[0m\u001b[1;33m\u001b[0m\u001b[1;33m\u001b[0m\u001b[0m\n\u001b[1;32m----> 2\u001b[1;33m     \u001b[0maudio\u001b[0m\u001b[1;33m,\u001b[0m \u001b[0msr\u001b[0m \u001b[1;33m=\u001b[0m \u001b[0mlibrosa\u001b[0m\u001b[1;33m.\u001b[0m\u001b[0mload\u001b[0m\u001b[1;33m(\u001b[0m\u001b[1;34mf'../../dataset/audio/{file}'\u001b[0m\u001b[1;33m,\u001b[0m \u001b[0msr\u001b[0m\u001b[1;33m=\u001b[0m\u001b[0msr\u001b[0m\u001b[1;33m)\u001b[0m\u001b[1;33m\u001b[0m\u001b[1;33m\u001b[0m\u001b[0m\n\u001b[0m\u001b[0;32m      3\u001b[0m     \u001b[0maudio\u001b[0m \u001b[1;33m=\u001b[0m \u001b[0mlibrosa\u001b[0m\u001b[1;33m.\u001b[0m\u001b[0mfeature\u001b[0m\u001b[1;33m.\u001b[0m\u001b[0mmfcc\u001b[0m\u001b[1;33m(\u001b[0m\u001b[0my\u001b[0m\u001b[1;33m=\u001b[0m\u001b[0maudio\u001b[0m\u001b[1;33m,\u001b[0m \u001b[0msr\u001b[0m\u001b[1;33m=\u001b[0m\u001b[0msr\u001b[0m\u001b[1;33m,\u001b[0m \u001b[0mn_mfcc\u001b[0m\u001b[1;33m=\u001b[0m\u001b[1;36m40\u001b[0m\u001b[1;33m)\u001b[0m \u001b[1;31m#mfcc\u001b[0m\u001b[1;33m\u001b[0m\u001b[1;33m\u001b[0m\u001b[0m\n\u001b[0;32m      4\u001b[0m     \u001b[0mx_train\u001b[0m\u001b[1;33m.\u001b[0m\u001b[0mappend\u001b[0m\u001b[1;33m(\u001b[0m\u001b[0maudio\u001b[0m\u001b[1;33m.\u001b[0m\u001b[0mflatten\u001b[0m\u001b[1;33m(\u001b[0m\u001b[1;33m)\u001b[0m\u001b[1;33m)\u001b[0m \u001b[1;31m#flatten\u001b[0m\u001b[1;33m\u001b[0m\u001b[1;33m\u001b[0m\u001b[0m\n\u001b[0;32m      5\u001b[0m     \u001b[0my_train\u001b[0m\u001b[1;33m.\u001b[0m\u001b[0mappend\u001b[0m\u001b[1;33m(\u001b[0m\u001b[0mtrain_csv\u001b[0m\u001b[1;33m[\u001b[0m\u001b[1;34m'label'\u001b[0m\u001b[1;33m]\u001b[0m\u001b[1;33m.\u001b[0m\u001b[0miloc\u001b[0m\u001b[1;33m[\u001b[0m\u001b[0midx\u001b[0m\u001b[1;33m]\u001b[0m\u001b[1;33m)\u001b[0m\u001b[1;33m\u001b[0m\u001b[1;33m\u001b[0m\u001b[0m\n",
      "\u001b[1;32m~\\anaconda3\\lib\\site-packages\\librosa\\util\\decorators.py\u001b[0m in \u001b[0;36minner_f\u001b[1;34m(*args, **kwargs)\u001b[0m\n\u001b[0;32m     86\u001b[0m             \u001b[0mextra_args\u001b[0m \u001b[1;33m=\u001b[0m \u001b[0mlen\u001b[0m\u001b[1;33m(\u001b[0m\u001b[0margs\u001b[0m\u001b[1;33m)\u001b[0m \u001b[1;33m-\u001b[0m \u001b[0mlen\u001b[0m\u001b[1;33m(\u001b[0m\u001b[0mall_args\u001b[0m\u001b[1;33m)\u001b[0m\u001b[1;33m\u001b[0m\u001b[1;33m\u001b[0m\u001b[0m\n\u001b[0;32m     87\u001b[0m             \u001b[1;32mif\u001b[0m \u001b[0mextra_args\u001b[0m \u001b[1;33m<=\u001b[0m \u001b[1;36m0\u001b[0m\u001b[1;33m:\u001b[0m\u001b[1;33m\u001b[0m\u001b[1;33m\u001b[0m\u001b[0m\n\u001b[1;32m---> 88\u001b[1;33m                 \u001b[1;32mreturn\u001b[0m \u001b[0mf\u001b[0m\u001b[1;33m(\u001b[0m\u001b[1;33m*\u001b[0m\u001b[0margs\u001b[0m\u001b[1;33m,\u001b[0m \u001b[1;33m**\u001b[0m\u001b[0mkwargs\u001b[0m\u001b[1;33m)\u001b[0m\u001b[1;33m\u001b[0m\u001b[1;33m\u001b[0m\u001b[0m\n\u001b[0m\u001b[0;32m     89\u001b[0m \u001b[1;33m\u001b[0m\u001b[0m\n\u001b[0;32m     90\u001b[0m             \u001b[1;31m# extra_args > 0\u001b[0m\u001b[1;33m\u001b[0m\u001b[1;33m\u001b[0m\u001b[1;33m\u001b[0m\u001b[0m\n",
      "\u001b[1;32m~\\anaconda3\\lib\\site-packages\\librosa\\core\\audio.py\u001b[0m in \u001b[0;36mload\u001b[1;34m(path, sr, mono, offset, duration, dtype, res_type)\u001b[0m\n\u001b[0;32m    177\u001b[0m \u001b[1;33m\u001b[0m\u001b[0m\n\u001b[0;32m    178\u001b[0m     \u001b[1;32mif\u001b[0m \u001b[0msr\u001b[0m \u001b[1;32mis\u001b[0m \u001b[1;32mnot\u001b[0m \u001b[1;32mNone\u001b[0m\u001b[1;33m:\u001b[0m\u001b[1;33m\u001b[0m\u001b[1;33m\u001b[0m\u001b[0m\n\u001b[1;32m--> 179\u001b[1;33m         \u001b[0my\u001b[0m \u001b[1;33m=\u001b[0m \u001b[0mresample\u001b[0m\u001b[1;33m(\u001b[0m\u001b[0my\u001b[0m\u001b[1;33m,\u001b[0m \u001b[0morig_sr\u001b[0m\u001b[1;33m=\u001b[0m\u001b[0msr_native\u001b[0m\u001b[1;33m,\u001b[0m \u001b[0mtarget_sr\u001b[0m\u001b[1;33m=\u001b[0m\u001b[0msr\u001b[0m\u001b[1;33m,\u001b[0m \u001b[0mres_type\u001b[0m\u001b[1;33m=\u001b[0m\u001b[0mres_type\u001b[0m\u001b[1;33m)\u001b[0m\u001b[1;33m\u001b[0m\u001b[1;33m\u001b[0m\u001b[0m\n\u001b[0m\u001b[0;32m    180\u001b[0m \u001b[1;33m\u001b[0m\u001b[0m\n\u001b[0;32m    181\u001b[0m     \u001b[1;32melse\u001b[0m\u001b[1;33m:\u001b[0m\u001b[1;33m\u001b[0m\u001b[1;33m\u001b[0m\u001b[0m\n",
      "\u001b[1;32m~\\anaconda3\\lib\\site-packages\\librosa\\util\\decorators.py\u001b[0m in \u001b[0;36minner_f\u001b[1;34m(*args, **kwargs)\u001b[0m\n\u001b[0;32m     86\u001b[0m             \u001b[0mextra_args\u001b[0m \u001b[1;33m=\u001b[0m \u001b[0mlen\u001b[0m\u001b[1;33m(\u001b[0m\u001b[0margs\u001b[0m\u001b[1;33m)\u001b[0m \u001b[1;33m-\u001b[0m \u001b[0mlen\u001b[0m\u001b[1;33m(\u001b[0m\u001b[0mall_args\u001b[0m\u001b[1;33m)\u001b[0m\u001b[1;33m\u001b[0m\u001b[1;33m\u001b[0m\u001b[0m\n\u001b[0;32m     87\u001b[0m             \u001b[1;32mif\u001b[0m \u001b[0mextra_args\u001b[0m \u001b[1;33m<=\u001b[0m \u001b[1;36m0\u001b[0m\u001b[1;33m:\u001b[0m\u001b[1;33m\u001b[0m\u001b[1;33m\u001b[0m\u001b[0m\n\u001b[1;32m---> 88\u001b[1;33m                 \u001b[1;32mreturn\u001b[0m \u001b[0mf\u001b[0m\u001b[1;33m(\u001b[0m\u001b[1;33m*\u001b[0m\u001b[0margs\u001b[0m\u001b[1;33m,\u001b[0m \u001b[1;33m**\u001b[0m\u001b[0mkwargs\u001b[0m\u001b[1;33m)\u001b[0m\u001b[1;33m\u001b[0m\u001b[1;33m\u001b[0m\u001b[0m\n\u001b[0m\u001b[0;32m     89\u001b[0m \u001b[1;33m\u001b[0m\u001b[0m\n\u001b[0;32m     90\u001b[0m             \u001b[1;31m# extra_args > 0\u001b[0m\u001b[1;33m\u001b[0m\u001b[1;33m\u001b[0m\u001b[1;33m\u001b[0m\u001b[0m\n",
      "\u001b[1;32m~\\anaconda3\\lib\\site-packages\\librosa\\core\\audio.py\u001b[0m in \u001b[0;36mresample\u001b[1;34m(y, orig_sr, target_sr, res_type, fix, scale, **kwargs)\u001b[0m\n\u001b[0;32m    645\u001b[0m         \u001b[0my_hat\u001b[0m \u001b[1;33m=\u001b[0m \u001b[0msoxr\u001b[0m\u001b[1;33m.\u001b[0m\u001b[0mresample\u001b[0m\u001b[1;33m(\u001b[0m\u001b[0my\u001b[0m\u001b[1;33m.\u001b[0m\u001b[0mT\u001b[0m\u001b[1;33m,\u001b[0m \u001b[0morig_sr\u001b[0m\u001b[1;33m,\u001b[0m \u001b[0mtarget_sr\u001b[0m\u001b[1;33m,\u001b[0m \u001b[0mquality\u001b[0m\u001b[1;33m=\u001b[0m\u001b[0mres_type\u001b[0m\u001b[1;33m)\u001b[0m\u001b[1;33m.\u001b[0m\u001b[0mT\u001b[0m\u001b[1;33m\u001b[0m\u001b[1;33m\u001b[0m\u001b[0m\n\u001b[0;32m    646\u001b[0m     \u001b[1;32melse\u001b[0m\u001b[1;33m:\u001b[0m\u001b[1;33m\u001b[0m\u001b[1;33m\u001b[0m\u001b[0m\n\u001b[1;32m--> 647\u001b[1;33m         \u001b[0my_hat\u001b[0m \u001b[1;33m=\u001b[0m \u001b[0mresampy\u001b[0m\u001b[1;33m.\u001b[0m\u001b[0mresample\u001b[0m\u001b[1;33m(\u001b[0m\u001b[0my\u001b[0m\u001b[1;33m,\u001b[0m \u001b[0morig_sr\u001b[0m\u001b[1;33m,\u001b[0m \u001b[0mtarget_sr\u001b[0m\u001b[1;33m,\u001b[0m \u001b[0mfilter\u001b[0m\u001b[1;33m=\u001b[0m\u001b[0mres_type\u001b[0m\u001b[1;33m,\u001b[0m \u001b[0maxis\u001b[0m\u001b[1;33m=\u001b[0m\u001b[1;33m-\u001b[0m\u001b[1;36m1\u001b[0m\u001b[1;33m)\u001b[0m\u001b[1;33m\u001b[0m\u001b[1;33m\u001b[0m\u001b[0m\n\u001b[0m\u001b[0;32m    648\u001b[0m \u001b[1;33m\u001b[0m\u001b[0m\n\u001b[0;32m    649\u001b[0m     \u001b[1;32mif\u001b[0m \u001b[0mfix\u001b[0m\u001b[1;33m:\u001b[0m\u001b[1;33m\u001b[0m\u001b[1;33m\u001b[0m\u001b[0m\n",
      "\u001b[1;32m~\\anaconda3\\lib\\site-packages\\resampy\\core.py\u001b[0m in \u001b[0;36mresample\u001b[1;34m(x, sr_orig, sr_new, axis, filter, parallel, **kwargs)\u001b[0m\n\u001b[0;32m    166\u001b[0m             )\n\u001b[0;32m    167\u001b[0m     \u001b[1;32melse\u001b[0m\u001b[1;33m:\u001b[0m\u001b[1;33m\u001b[0m\u001b[1;33m\u001b[0m\u001b[0m\n\u001b[1;32m--> 168\u001b[1;33m         resample_f_s(\n\u001b[0m\u001b[0;32m    169\u001b[0m             \u001b[0mx\u001b[0m\u001b[1;33m.\u001b[0m\u001b[0mswapaxes\u001b[0m\u001b[1;33m(\u001b[0m\u001b[1;33m-\u001b[0m\u001b[1;36m1\u001b[0m\u001b[1;33m,\u001b[0m \u001b[0maxis\u001b[0m\u001b[1;33m)\u001b[0m\u001b[1;33m,\u001b[0m\u001b[1;33m\u001b[0m\u001b[1;33m\u001b[0m\u001b[0m\n\u001b[0;32m    170\u001b[0m             \u001b[0mt_out\u001b[0m\u001b[1;33m,\u001b[0m\u001b[1;33m\u001b[0m\u001b[1;33m\u001b[0m\u001b[0m\n",
      "\u001b[1;32m~\\anaconda3\\lib\\site-packages\\numba\\np\\ufunc\\gufunc.py\u001b[0m in \u001b[0;36m__call__\u001b[1;34m(self, *args, **kwargs)\u001b[0m\n\u001b[0;32m    171\u001b[0m             \u001b[0mself\u001b[0m\u001b[1;33m.\u001b[0m\u001b[0madd\u001b[0m\u001b[1;33m(\u001b[0m\u001b[0msig\u001b[0m\u001b[1;33m)\u001b[0m\u001b[1;33m\u001b[0m\u001b[1;33m\u001b[0m\u001b[0m\n\u001b[0;32m    172\u001b[0m             \u001b[0mself\u001b[0m\u001b[1;33m.\u001b[0m\u001b[0mbuild_ufunc\u001b[0m\u001b[1;33m(\u001b[0m\u001b[1;33m)\u001b[0m\u001b[1;33m\u001b[0m\u001b[1;33m\u001b[0m\u001b[0m\n\u001b[1;32m--> 173\u001b[1;33m         \u001b[1;32mreturn\u001b[0m \u001b[0mself\u001b[0m\u001b[1;33m.\u001b[0m\u001b[0mufunc\u001b[0m\u001b[1;33m(\u001b[0m\u001b[1;33m*\u001b[0m\u001b[0margs\u001b[0m\u001b[1;33m,\u001b[0m \u001b[1;33m**\u001b[0m\u001b[0mkwargs\u001b[0m\u001b[1;33m)\u001b[0m\u001b[1;33m\u001b[0m\u001b[1;33m\u001b[0m\u001b[0m\n\u001b[0m",
      "\u001b[1;31mKeyboardInterrupt\u001b[0m: "
     ]
    }
   ],
   "source": [
    "for idx, file in enumerate(train_csv['file_name']):\n",
    "    audio, sr = librosa.load(f'../../dataset/audio/{file}', sr=sr) #load each file\n",
    "    audio = librosa.feature.mfcc(y=audio, sr=sr, n_mfcc=40) #feature extraction method - MFCC\n",
    "    x_train.append(audio.flatten()) #flatten\n",
    "    y_train.append(train_csv['label'].iloc[idx]) #The label values in csv are extracted by index and added to the list.\n",
    "    \n",
    "for idx, file in enumerate(test_csv['file_name']):\n",
    "    audio, sr = librosa.load(f'../../dataset/audio/{file}', sr=sr) #load each file\n",
    "    audio = librosa.feature.mfcc(y=audio, sr=sr, n_mfcc=40) #feature extraction method - MFCC\n",
    "    x_test.append(audio.flatten()) #flatten\n",
    "    y_test.append(test_csv['label'].iloc[idx]) #The label values in csv are extracted by index and added to the list."
   ]
  },
  {
   "cell_type": "markdown",
   "id": "b65e583f",
   "metadata": {},
   "source": [
    "## OPTION 2) Run this cell for Mel Spectrogram"
   ]
  },
  {
   "cell_type": "code",
   "execution_count": null,
   "id": "e9aa4596",
   "metadata": {},
   "outputs": [],
   "source": [
    "for idx, file in enumerate(train_csv['file_name']):\n",
    "    audio, sr = librosa.load(f'../../dataset/audio/{file}', sr=sr) #load each file\n",
    "    audio = librosa.feature.melspectrogram(audio, sr) #feature extraction method - mel spectrogram\n",
    "    x_train.append(audio.flatten()) #flatten\n",
    "    y_train.append(train_csv['label'].iloc[idx]) #The label values in csv are extracted by index and added to the list.\n",
    "    \n",
    "for idx, file in enumerate(test_csv['file_name']):\n",
    "    audio, sr = librosa.load(f'../../dataset/audio/{file}', sr=sr) #load each file\n",
    "    audio = librosa.feature.melspectrogram(audio, sr) #feature extraction method - mel spectrogram\n",
    "    x_test.append(audio.flatten()) #flatten\n",
    "    y_test.append(test_csv['label'].iloc[idx]) #The label values in csv are extracted by index and added to the list."
   ]
  },
  {
   "cell_type": "markdown",
   "id": "e2224c8e",
   "metadata": {},
   "source": [
    "## OPTION 3) Run this cell for Log-Mel Spectrogram"
   ]
  },
  {
   "cell_type": "code",
   "execution_count": 11,
   "id": "b625749e",
   "metadata": {},
   "outputs": [],
   "source": [
    "for idx, file in enumerate(train_csv['file_name']):\n",
    "    audio, sr = librosa.load(f'../../dataset/audio/{file}', sr=sr)  #load each file\n",
    "    audio = librosa.feature.melspectrogram(audio, sr) \n",
    "    audio = librosa.power_to_db(audio) #feature extraction method - log-mel spectrogram\n",
    "    x_train.append(audio.flatten()) #flatten\n",
    "    y_train.append(train_csv['label'].iloc[idx]) #The label values in csv are extracted by index and added to the list\n",
    "    \n",
    "for idx, file in enumerate(test_csv['file_name']):\n",
    "    audio, sr = librosa.load(f'../../dataset/audio/{file}', sr=sr) #load each file\n",
    "    audio = librosa.feature.melspectrogram(audio, sr)\n",
    "    audio = librosa.power_to_db(audio) #feature extraction method - log-mel spectrogram\n",
    "    x_test.append(audio.flatten()) #flatten\n",
    "    y_test.append(test_csv['label'].iloc[idx]) #The label values in csv are extracted by index and added to the list."
   ]
  },
  {
   "cell_type": "markdown",
   "id": "3d0720f2",
   "metadata": {},
   "source": [
    "## OPTION 4) Run this cell for GTCC"
   ]
  },
  {
   "cell_type": "code",
   "execution_count": 12,
   "id": "8e3315a6",
   "metadata": {},
   "outputs": [],
   "source": [
    "for idx, file in enumerate(train_csv['file_name']):\n",
    "    fs,sig = scipy.io.wavfile.read(f'../../dataset/audio/{file}')  #load each file\n",
    "    gfccs  = gfcc(sig,num_ceps=200, nfilts =200,fs=sr) #feature extraction method - GTCC\n",
    "    audio = np.array(gfccs)\n",
    "    audio = audio.reshape(audio.shape[0], audio.shape[1], 1) #reshape\n",
    "    x_train.append(audio.flatten()) #flatten\n",
    "    y_train.append(train_csv['label'].iloc[idx])#The label values in csv are extracted by index and added to the list.\n",
    "\n",
    "for idx, file in enumerate(test_csv['file_name']):\n",
    "    fs,sig = scipy.io.wavfile.read(f'../../dataset/audio/{file}') #load each file\n",
    "    gfccs  = gfcc(sig,num_ceps=200, nfilts =200,fs=sr) #feature extraction method - GTCC\n",
    "    audio = np.array(gfccs)\n",
    "    audio = audio.reshape(audio.shape[0], audio.shape[1], 1) #reshape\n",
    "    x_test.append(audio.flatten()) #flatten\n",
    "    y_test.append(test_csv['label'].iloc[idx])#The label values in csv are extracted by index and added to the list."
   ]
  },
  {
   "cell_type": "markdown",
   "id": "b78b1ede",
   "metadata": {},
   "source": [
    "Feature exatraction OPTION END"
   ]
  },
  {
   "cell_type": "code",
   "execution_count": 20,
   "id": "ff1251d4",
   "metadata": {},
   "outputs": [],
   "source": [
    "scaler = StandardScaler()\n",
    "x_train = scaler.fit_transform(x_train)\n",
    "x_test = scaler.transform(x_test)\n",
    "\n",
    "x_train=pd.DataFrame(x_train)\n",
    "y_train=pd.DataFrame(y_train)"
   ]
  },
  {
   "cell_type": "markdown",
   "id": "a91f8c95",
   "metadata": {},
   "source": [
    "# OPTION: USER has to run manually from here to change models\n",
    "### 4 OPTIONS : 1) SVM 2) MLP 3) KNN 4)GNB\n",
    "## Run the corresponding cell.\n",
    "\n",
    "## OPTION 1) SVM"
   ]
  },
  {
   "cell_type": "code",
   "execution_count": 21,
   "id": "3866ed6e",
   "metadata": {},
   "outputs": [
    {
     "name": "stdout",
     "output_type": "stream",
     "text": [
      "[LibSVM]"
     ]
    }
   ],
   "source": [
    "#Create a SVM Classifier\n",
    "model = svm.SVC(kernel = 'rbf', C = 1,verbose=True, probability=True)\n",
    "#Train the model using the training sets\n",
    "model = model.fit(x_train,y_train)"
   ]
  },
  {
   "cell_type": "markdown",
   "id": "dda8759b",
   "metadata": {},
   "source": [
    "## OPTION 2) MLP"
   ]
  },
  {
   "cell_type": "code",
   "execution_count": 25,
   "id": "6e2b5542",
   "metadata": {},
   "outputs": [
    {
     "name": "stdout",
     "output_type": "stream",
     "text": [
      "Iteration 1, loss = 0.52808969\n",
      "Validation score: 0.834783\n",
      "Iteration 2, loss = 0.41441382\n",
      "Validation score: 0.865217\n",
      "Iteration 3, loss = 0.35805459\n",
      "Validation score: 0.878261\n",
      "Iteration 4, loss = 0.32066045\n",
      "Validation score: 0.865217\n",
      "Iteration 5, loss = 0.29370508\n",
      "Validation score: 0.869565\n",
      "Iteration 6, loss = 0.27120280\n",
      "Validation score: 0.856522\n",
      "Iteration 7, loss = 0.25205152\n",
      "Validation score: 0.865217\n",
      "Iteration 8, loss = 0.23472639\n",
      "Validation score: 0.856522\n",
      "Iteration 9, loss = 0.21944806\n",
      "Validation score: 0.865217\n",
      "Iteration 10, loss = 0.20571244\n",
      "Validation score: 0.856522\n",
      "Iteration 11, loss = 0.19320501\n",
      "Validation score: 0.852174\n",
      "Iteration 12, loss = 0.18146357\n",
      "Validation score: 0.852174\n",
      "Iteration 13, loss = 0.17169639\n",
      "Validation score: 0.847826\n",
      "Iteration 14, loss = 0.16240627\n",
      "Validation score: 0.852174\n",
      "Validation score did not improve more than tol=0.000100 for 10 consecutive epochs. Stopping.\n"
     ]
    }
   ],
   "source": [
    "#Create a MLP Classifier\n",
    "model = MLPClassifier(hidden_layer_sizes=(10,),activation='logistic',\n",
    "                    solver='sgd', alpha=0.01, batch_size=10,\n",
    "                    learning_rate_init=0.001, max_iter=70,\n",
    "                    early_stopping=True, verbose= True)\n",
    "#Train the model using the training sets\n",
    "model = model.fit(x_train, y_train)"
   ]
  },
  {
   "cell_type": "markdown",
   "id": "5080f241",
   "metadata": {},
   "source": [
    "## OPTION 3) KNN"
   ]
  },
  {
   "cell_type": "code",
   "execution_count": 27,
   "id": "d4f1292b",
   "metadata": {},
   "outputs": [],
   "source": [
    "#Create a KNeighborsClassifier\n",
    "model = KNeighborsClassifier(n_neighbors = 5)\n",
    "#Train the model using the training sets\n",
    "model = model.fit(x_train,y_train)"
   ]
  },
  {
   "cell_type": "markdown",
   "id": "95b03269",
   "metadata": {},
   "source": [
    "## OPTION 4) GNB"
   ]
  },
  {
   "cell_type": "code",
   "execution_count": 29,
   "id": "df34def8",
   "metadata": {},
   "outputs": [],
   "source": [
    "#Create a Gaussian Classifier\n",
    "model = GaussianNB()\n",
    "#Train the model using the training sets\n",
    "model=model.fit(x_train, y_train)"
   ]
  },
  {
   "cell_type": "markdown",
   "id": "fc262d96",
   "metadata": {},
   "source": [
    "# Evalution Metrics"
   ]
  },
  {
   "cell_type": "code",
   "execution_count": 30,
   "id": "de63648b",
   "metadata": {},
   "outputs": [
    {
     "name": "stdout",
     "output_type": "stream",
     "text": [
      "acc :  0.8015665796344648\n",
      "AUC :  0.8453714511956204\n",
      "CEL :  6.15587084097439\n",
      "              precision    recall  f1-score   support\n",
      "\n",
      "           0       0.81      0.77      0.79       369\n",
      "           1       0.80      0.83      0.81       397\n",
      "\n",
      "    accuracy                           0.80       766\n",
      "   macro avg       0.80      0.80      0.80       766\n",
      "weighted avg       0.80      0.80      0.80       766\n",
      "\n"
     ]
    }
   ],
   "source": [
    "y_pred=model.predict(x_test) # model predict\n",
    "y_prob = model.predict_proba(x_test) # calculate probability\n",
    "fpr, tpr, thresholds = metrics.roc_curve(y_test, y_prob[:,1])\n",
    "AUC = metrics.auc(fpr, tpr) # calculate AUC\n",
    "####\n",
    "print('accuracy : ', accuracy_score(y_test,y_pred)) # print accuracy\n",
    "print('AUC : ', AUC) # print AUC\n",
    "print(classification_report(y_test, y_pred)) # print f1-score"
   ]
  },
  {
   "cell_type": "code",
   "execution_count": null,
   "id": "fb35dadf",
   "metadata": {},
   "outputs": [],
   "source": []
  }
 ],
 "metadata": {
  "kernelspec": {
   "display_name": "Python 3",
   "language": "python",
   "name": "python3"
  },
  "language_info": {
   "codemirror_mode": {
    "name": "ipython",
    "version": 3
   },
   "file_extension": ".py",
   "mimetype": "text/x-python",
   "name": "python",
   "nbconvert_exporter": "python",
   "pygments_lexer": "ipython3",
   "version": "3.8.8"
  }
 },
 "nbformat": 4,
 "nbformat_minor": 5
}
