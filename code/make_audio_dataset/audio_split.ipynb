{
 "cells": [
  {
   "cell_type": "markdown",
   "id": "df70fd5a",
   "metadata": {},
   "source": [
    "# [Code for Audio FIle Split]\n",
    "## You can split audio file by the time you want"
   ]
  },
  {
   "cell_type": "code",
   "execution_count": 1,
   "id": "26c06916",
   "metadata": {},
   "outputs": [],
   "source": [
    "import librosa\n",
    "import os\n",
    "import soundfile as sf"
   ]
  },
  {
   "cell_type": "code",
   "execution_count": 2,
   "id": "70ed2028-ab18-46d0-b3fb-83f2b31bc9c1",
   "metadata": {},
   "outputs": [],
   "source": [
    "file_path = 'C:/Users/binny/PURDUE/fox/fox_join_full.wav' #path of an audio file that wants to be splited\n",
    "audio, sr = librosa.load(file_path) #load audio file\n",
    "# Get number of samples for 3 seconds; \n",
    "buffer = 3 * sr\n",
    "\n",
    "samples_total = len(audio) #total sample numbers\n",
    "samples_wrote = 0\n",
    "\n",
    "file_count=os.listdir('fox/fox_split') #directory to save the splited files\n",
    "\n",
    "#counter = len(file_count)+1\n",
    "counter = 1 #variable for the file name"
   ]
  },
  {
   "cell_type": "code",
   "execution_count": 3,
   "id": "58bd4a7c-f521-4488-8c4a-18ba40f7c27a",
   "metadata": {},
   "outputs": [],
   "source": [
    "while samples_wrote < samples_total:\n",
    "    #check if the buffer is not exceeding total samples \n",
    "    if buffer > (samples_total - samples_wrote):\n",
    "        buffer = samples_total - samples_wrote\n",
    "\n",
    "    block = audio[samples_wrote : (samples_wrote + buffer)] # save the each block\n",
    "    os.chdir('C:/Users/binny/PURDUE/fox/fox_split') # make directory\n",
    "\n",
    "    out_filename = \"fox_\" + str(counter)+\".wav\" #output file name\n",
    "\n",
    "    # Write 3 second segment\n",
    "    sf.write(out_filename, block, sr)\n",
    "    counter += 1 # for the file name\n",
    "    samples_wrote += buffer"
   ]
  }
 ],
 "metadata": {
  "kernelspec": {
   "display_name": "Python 3",
   "language": "python",
   "name": "python3"
  },
  "language_info": {
   "codemirror_mode": {
    "name": "ipython",
    "version": 3
   },
   "file_extension": ".py",
   "mimetype": "text/x-python",
   "name": "python",
   "nbconvert_exporter": "python",
   "pygments_lexer": "ipython3",
   "version": "3.8.8"
  }
 },
 "nbformat": 4,
 "nbformat_minor": 5
}
