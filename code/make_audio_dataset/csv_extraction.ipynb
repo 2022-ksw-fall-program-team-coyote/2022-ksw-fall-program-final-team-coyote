{
 "cells": [
  {
   "cell_type": "code",
   "execution_count": 1,
   "id": "1f77734d",
   "metadata": {},
   "outputs": [],
   "source": [
    "import tensorflow as tf\n",
    "import numpy as np\n",
    "import pandas as pd\n",
    "import glob\n",
    "import os\n",
    "import natsort\n",
    "import librosa"
   ]
  },
  {
   "cell_type": "markdown",
   "id": "2e966be8",
   "metadata": {},
   "source": [
    "# Coyote"
   ]
  },
  {
   "cell_type": "code",
   "execution_count": 2,
   "id": "800fb84d",
   "metadata": {},
   "outputs": [],
   "source": [
    "data_list = os.listdir('dataset/coyote') # directory path of the audio dataset\n",
    "data_list = natsort.natsorted(data_list) # sorting the dataset"
   ]
  },
  {
   "cell_type": "code",
   "execution_count": 3,
   "id": "d840a469",
   "metadata": {},
   "outputs": [],
   "source": [
    "dataset_coyote=pd.DataFrame() #dataframe"
   ]
  },
  {
   "cell_type": "markdown",
   "id": "db7e14e5",
   "metadata": {},
   "source": [
    "### USER has to change below path manually"
   ]
  },
  {
   "cell_type": "code",
   "execution_count": null,
   "id": "ec9c33a6",
   "metadata": {},
   "outputs": [],
   "source": [
    "file_path = 'C:/Users/binny/PURDUE/dataset/coyote/'#dataset path\n",
    "file_name_list=[]\n",
    "length_list=[]"
   ]
  },
  {
   "cell_type": "code",
   "execution_count": null,
   "id": "96eb0cc4",
   "metadata": {},
   "outputs": [],
   "source": [
    "for file in data_list:\n",
    "    file_name_list.append(file) #file name\n",
    "    audio, sr = librosa.load(file_path+file) #audio load\n",
    "    length_list.append(librosa.get_duration(y=audio, sr=sr)) #audio length\n",
    "\n",
    "#add column\n",
    "dataset_coyote['file_name']=file_name_list\n",
    "dataset_coyote['length']=length_list\n",
    "dataset_coyote['animal']='coyote'\n",
    "dataset_coyote['label']=1"
   ]
  },
  {
   "cell_type": "code",
   "execution_count": 5,
   "id": "89e3340e",
   "metadata": {},
   "outputs": [
    {
     "data": {
      "text/html": [
       "<div>\n",
       "<style scoped>\n",
       "    .dataframe tbody tr th:only-of-type {\n",
       "        vertical-align: middle;\n",
       "    }\n",
       "\n",
       "    .dataframe tbody tr th {\n",
       "        vertical-align: top;\n",
       "    }\n",
       "\n",
       "    .dataframe thead th {\n",
       "        text-align: right;\n",
       "    }\n",
       "</style>\n",
       "<table border=\"1\" class=\"dataframe\">\n",
       "  <thead>\n",
       "    <tr style=\"text-align: right;\">\n",
       "      <th></th>\n",
       "      <th>file_name</th>\n",
       "      <th>length</th>\n",
       "      <th>animal</th>\n",
       "      <th>label</th>\n",
       "    </tr>\n",
       "  </thead>\n",
       "  <tbody>\n",
       "    <tr>\n",
       "      <th>0</th>\n",
       "      <td>coyote_1.wav</td>\n",
       "      <td>5.0</td>\n",
       "      <td>coyote</td>\n",
       "      <td>1</td>\n",
       "    </tr>\n",
       "    <tr>\n",
       "      <th>1</th>\n",
       "      <td>coyote_2.wav</td>\n",
       "      <td>5.0</td>\n",
       "      <td>coyote</td>\n",
       "      <td>1</td>\n",
       "    </tr>\n",
       "    <tr>\n",
       "      <th>2</th>\n",
       "      <td>coyote_3.wav</td>\n",
       "      <td>5.0</td>\n",
       "      <td>coyote</td>\n",
       "      <td>1</td>\n",
       "    </tr>\n",
       "    <tr>\n",
       "      <th>3</th>\n",
       "      <td>coyote_4.wav</td>\n",
       "      <td>5.0</td>\n",
       "      <td>coyote</td>\n",
       "      <td>1</td>\n",
       "    </tr>\n",
       "    <tr>\n",
       "      <th>4</th>\n",
       "      <td>coyote_5.wav</td>\n",
       "      <td>5.0</td>\n",
       "      <td>coyote</td>\n",
       "      <td>1</td>\n",
       "    </tr>\n",
       "  </tbody>\n",
       "</table>\n",
       "</div>"
      ],
      "text/plain": [
       "      file_name  length  animal  label\n",
       "0  coyote_1.wav     5.0  coyote      1\n",
       "1  coyote_2.wav     5.0  coyote      1\n",
       "2  coyote_3.wav     5.0  coyote      1\n",
       "3  coyote_4.wav     5.0  coyote      1\n",
       "4  coyote_5.wav     5.0  coyote      1"
      ]
     },
     "execution_count": 5,
     "metadata": {},
     "output_type": "execute_result"
    }
   ],
   "source": [
    "dataset_coyote.head()"
   ]
  },
  {
   "cell_type": "code",
   "execution_count": 6,
   "id": "ab5f49fc",
   "metadata": {},
   "outputs": [
    {
     "name": "stdout",
     "output_type": "stream",
     "text": [
      "            file_name  length  animal  label\n",
      "0        coyote_1.wav     5.0  coyote      1\n",
      "1        coyote_2.wav     5.0  coyote      1\n",
      "2        coyote_3.wav     5.0  coyote      1\n",
      "3        coyote_4.wav     5.0  coyote      1\n",
      "4        coyote_5.wav     5.0  coyote      1\n",
      "...               ...     ...     ...    ...\n",
      "1155  coyote_1156.wav     5.0  coyote      1\n",
      "1156  coyote_1157.wav     5.0  coyote      1\n",
      "1157  coyote_1158.wav     5.0  coyote      1\n",
      "1158  coyote_1159.wav     5.0  coyote      1\n",
      "1159  coyote_1160.wav     5.0  coyote      1\n",
      "\n",
      "[1160 rows x 4 columns]\n"
     ]
    }
   ],
   "source": [
    "print(dataset_coyote)"
   ]
  },
  {
   "cell_type": "markdown",
   "id": "11630d8d",
   "metadata": {},
   "source": [
    "# Fox"
   ]
  },
  {
   "cell_type": "code",
   "execution_count": 9,
   "id": "c0b567a2",
   "metadata": {},
   "outputs": [],
   "source": [
    "data_list = os.listdir('dataset/fox') # directory path of the audio dataset\n",
    "data_list = natsort.natsorted(data_list) # sorting the dataset"
   ]
  },
  {
   "cell_type": "code",
   "execution_count": 10,
   "id": "2442a355",
   "metadata": {},
   "outputs": [],
   "source": [
    "dataset_fox=pd.DataFrame() #dataframe"
   ]
  },
  {
   "cell_type": "markdown",
   "id": "d8f90863",
   "metadata": {},
   "source": [
    "### USER has to change below path manually"
   ]
  },
  {
   "cell_type": "code",
   "execution_count": null,
   "id": "c66370eb",
   "metadata": {},
   "outputs": [],
   "source": [
    "file_path = 'C:/Users/binny/PURDUE/dataset/fox/'\n",
    "file_name_list=[]\n",
    "length_list=[]"
   ]
  },
  {
   "cell_type": "code",
   "execution_count": 11,
   "id": "de9f54a6",
   "metadata": {},
   "outputs": [],
   "source": [
    "for file in data_list:\n",
    "    file_name_list.append(file) #file name\n",
    "    audio, sr = librosa.load(file_path+file) #audio load\n",
    "    length_list.append(librosa.get_duration(y=audio, sr=sr)) #audio length\n",
    "\n",
    "#add column\n",
    "dataset_fox['file_name']=file_name_list\n",
    "dataset_fox['length']=length_list\n",
    "dataset_fox['animal']='fox'\n",
    "dataset_fox['label']=0"
   ]
  },
  {
   "cell_type": "code",
   "execution_count": 12,
   "id": "caaab6e0",
   "metadata": {},
   "outputs": [
    {
     "name": "stdout",
     "output_type": "stream",
     "text": [
      "       file_name  length animal  label\n",
      "0      fox_1.wav     5.0    fox      0\n",
      "1      fox_2.wav     5.0    fox      0\n",
      "2      fox_3.wav     5.0    fox      0\n",
      "3      fox_4.wav     5.0    fox      0\n",
      "4      fox_5.wav     5.0    fox      0\n",
      "..           ...     ...    ...    ...\n",
      "115  fox_116.wav     5.0    fox      0\n",
      "116  fox_117.wav     5.0    fox      0\n",
      "117  fox_118.wav     5.0    fox      0\n",
      "118  fox_119.wav     5.0    fox      0\n",
      "119  fox_120.wav     5.0    fox      0\n",
      "\n",
      "[120 rows x 4 columns]\n"
     ]
    }
   ],
   "source": [
    "print(dataset_fox)"
   ]
  },
  {
   "cell_type": "markdown",
   "id": "575def1c",
   "metadata": {},
   "source": [
    "# Dog"
   ]
  },
  {
   "cell_type": "code",
   "execution_count": 13,
   "id": "55cfd787",
   "metadata": {},
   "outputs": [],
   "source": [
    "data_list = os.listdir('datase/dog') # directory path of the audio dataset\n",
    "data_list = natsort.natsorted(data_list) # sorting the dataset"
   ]
  },
  {
   "cell_type": "code",
   "execution_count": 14,
   "id": "70654f14",
   "metadata": {},
   "outputs": [],
   "source": [
    "dataset_dog=pd.DataFrame() #dataframe"
   ]
  },
  {
   "cell_type": "markdown",
   "id": "d5a2bdac",
   "metadata": {},
   "source": [
    "### USER has to change below path manually"
   ]
  },
  {
   "cell_type": "code",
   "execution_count": null,
   "id": "20b977a0",
   "metadata": {},
   "outputs": [],
   "source": [
    "file_path = 'C:/Users/binny/PURDUE/dataset/dog/'\n",
    "file_name_list=[]\n",
    "length_list=[]"
   ]
  },
  {
   "cell_type": "code",
   "execution_count": 15,
   "id": "af6fad11",
   "metadata": {},
   "outputs": [],
   "source": [
    "for file in data_list:\n",
    "    file_name_list.append(file) #file name\n",
    "    audio, sr = librosa.load(file_path+file) #audio load\n",
    "    length_list.append(librosa.get_duration(y=audio, sr=sr)) #audio length\n",
    "\n",
    "#add column    \n",
    "dataset_dog['file_name']=file_name_list\n",
    "dataset_dog['length']=length_list\n",
    "dataset_dog['animal']='dog'\n",
    "dataset_dog['label']=0"
   ]
  },
  {
   "cell_type": "code",
   "execution_count": 16,
   "id": "d9a3982f",
   "metadata": {},
   "outputs": [
    {
     "name": "stdout",
     "output_type": "stream",
     "text": [
      "       file_name  length animal  label\n",
      "0      dog_1.wav     5.0    dog      0\n",
      "1      dog_2.wav     5.0    dog      0\n",
      "2      dog_3.wav     5.0    dog      0\n",
      "3      dog_4.wav     5.0    dog      0\n",
      "4      dog_5.wav     5.0    dog      0\n",
      "..           ...     ...    ...    ...\n",
      "296  dog_297.wav     5.0    dog      0\n",
      "297  dog_298.wav     5.0    dog      0\n",
      "298  dog_299.wav     5.0    dog      0\n",
      "299  dog_300.wav     5.0    dog      0\n",
      "300  dog_301.wav     5.0    dog      0\n",
      "\n",
      "[301 rows x 4 columns]\n"
     ]
    }
   ],
   "source": [
    "print(dataset_dog)"
   ]
  },
  {
   "cell_type": "markdown",
   "id": "517ff66d",
   "metadata": {},
   "source": [
    "# Chicken"
   ]
  },
  {
   "cell_type": "code",
   "execution_count": 17,
   "id": "d4df6c15",
   "metadata": {},
   "outputs": [],
   "source": [
    "data_list = os.listdir('dataset/chicken') # directory path of the audio dataset\n",
    "data_list = natsort.natsorted(data_list) # sorting the dataset"
   ]
  },
  {
   "cell_type": "code",
   "execution_count": 18,
   "id": "fb45fc0d",
   "metadata": {},
   "outputs": [],
   "source": [
    "dataset_chicken=pd.DataFrame() #dataframe"
   ]
  },
  {
   "cell_type": "markdown",
   "id": "07de7647",
   "metadata": {},
   "source": [
    "### USER has to change below path manually"
   ]
  },
  {
   "cell_type": "code",
   "execution_count": null,
   "id": "382d061a",
   "metadata": {},
   "outputs": [],
   "source": [
    "file_path = 'C:/Users/binny/PURDUE/dataset/chicken/'\n",
    "file_name_list=[]\n",
    "length_list=[]"
   ]
  },
  {
   "cell_type": "code",
   "execution_count": 19,
   "id": "2864a063",
   "metadata": {},
   "outputs": [],
   "source": [
    "for file in data_list:\n",
    "    file_name_list.append(file) #file name\n",
    "    audio, sr = librosa.load(file_path+file) #audio load\n",
    "    length_list.append(librosa.get_duration(y=audio, sr=sr)) #audio length\n",
    "\n",
    "#add column    \n",
    "dataset_chicken['file_name']=file_name_list\n",
    "dataset_chicken['length']=length_list\n",
    "dataset_chicken['animal']='chicken'\n",
    "dataset_chicken['label']=0"
   ]
  },
  {
   "cell_type": "code",
   "execution_count": 20,
   "id": "2622dcdf",
   "metadata": {},
   "outputs": [
    {
     "name": "stdout",
     "output_type": "stream",
     "text": [
      "           file_name    length   animal  label\n",
      "0      chicken_1.wav  5.000000  chicken      0\n",
      "1      chicken_2.wav  5.000000  chicken      0\n",
      "2      chicken_3.wav  5.000000  chicken      0\n",
      "3      chicken_4.wav  5.000000  chicken      0\n",
      "4      chicken_5.wav  5.000000  chicken      0\n",
      "..               ...       ...      ...    ...\n",
      "351  chicken_352.wav  5.000000  chicken      0\n",
      "352  chicken_353.wav  5.000000  chicken      0\n",
      "353  chicken_354.wav  5.000000  chicken      0\n",
      "354  chicken_355.wav  5.000000  chicken      0\n",
      "355  chicken_356.wav  4.768481  chicken      0\n",
      "\n",
      "[356 rows x 4 columns]\n"
     ]
    }
   ],
   "source": [
    "print(dataset_chicken)"
   ]
  },
  {
   "cell_type": "markdown",
   "id": "e4acd005",
   "metadata": {},
   "source": [
    "# Bird"
   ]
  },
  {
   "cell_type": "code",
   "execution_count": 21,
   "id": "4d60ae7c",
   "metadata": {},
   "outputs": [],
   "source": [
    "data_list = os.listdir('dataset/bird') # directory path of the audio dataset\n",
    "data_list = natsort.natsorted(data_list) # sorting the dataset"
   ]
  },
  {
   "cell_type": "code",
   "execution_count": 22,
   "id": "4ba1484f",
   "metadata": {},
   "outputs": [],
   "source": [
    "dataset_bird=pd.DataFrame() #dataframe"
   ]
  },
  {
   "cell_type": "markdown",
   "id": "f0b5420f",
   "metadata": {},
   "source": [
    "### USER has to change below path manually"
   ]
  },
  {
   "cell_type": "code",
   "execution_count": null,
   "id": "f3eac403",
   "metadata": {},
   "outputs": [],
   "source": [
    "file_path = 'C:/Users/binny/PURDUE/dataset/bird/'\n",
    "file_name_list=[]\n",
    "length_list=[]"
   ]
  },
  {
   "cell_type": "code",
   "execution_count": 23,
   "id": "aec1bf22",
   "metadata": {},
   "outputs": [],
   "source": [
    "for file in data_list:\n",
    "    file_name_list.append(file) #file name\n",
    "    audio, sr = librosa.load(file_path+file) #audio load\n",
    "    length_list.append(librosa.get_duration(y=audio, sr=sr)) #audio length\n",
    "\n",
    "#add column    \n",
    "dataset_bird['file_name']=file_name_list\n",
    "dataset_bird['length']=length_list\n",
    "dataset_bird['animal']='bird'\n",
    "dataset_bird['label']=0"
   ]
  },
  {
   "cell_type": "code",
   "execution_count": 24,
   "id": "28fa0305",
   "metadata": {},
   "outputs": [
    {
     "name": "stdout",
     "output_type": "stream",
     "text": [
      "        file_name  length animal  label\n",
      "0      bird_1.wav     5.0   bird      0\n",
      "1      bird_2.wav     5.0   bird      0\n",
      "2      bird_3.wav     5.0   bird      0\n",
      "3      bird_4.wav     5.0   bird      0\n",
      "4      bird_5.wav     5.0   bird      0\n",
      "..            ...     ...    ...    ...\n",
      "592  bird_593.wav     5.0   bird      0\n",
      "593  bird_594.wav     5.0   bird      0\n",
      "594  bird_595.wav     5.0   bird      0\n",
      "595  bird_596.wav     5.0   bird      0\n",
      "596  bird_597.wav     5.0   bird      0\n",
      "\n",
      "[597 rows x 4 columns]\n"
     ]
    }
   ],
   "source": [
    "print(dataset_bird)"
   ]
  },
  {
   "cell_type": "markdown",
   "id": "f9ea8e56",
   "metadata": {},
   "source": [
    "### Combine all Dateframe"
   ]
  },
  {
   "cell_type": "code",
   "execution_count": 25,
   "id": "088d7468",
   "metadata": {},
   "outputs": [],
   "source": [
    "df_list = [dataset_coyote, dataset_fox, dataset_dog, dataset_chicken, dataset_bird]\n",
    "df_all = pd.concat(df_list, ignore_index=True)"
   ]
  },
  {
   "cell_type": "code",
   "execution_count": 26,
   "id": "be2468b5",
   "metadata": {},
   "outputs": [
    {
     "name": "stdout",
     "output_type": "stream",
     "text": [
      "         file_name  length  animal  label\n",
      "0     coyote_1.wav     5.0  coyote      1\n",
      "1     coyote_2.wav     5.0  coyote      1\n",
      "2     coyote_3.wav     5.0  coyote      1\n",
      "3     coyote_4.wav     5.0  coyote      1\n",
      "4     coyote_5.wav     5.0  coyote      1\n",
      "...            ...     ...     ...    ...\n",
      "2529  bird_593.wav     5.0    bird      0\n",
      "2530  bird_594.wav     5.0    bird      0\n",
      "2531  bird_595.wav     5.0    bird      0\n",
      "2532  bird_596.wav     5.0    bird      0\n",
      "2533  bird_597.wav     5.0    bird      0\n",
      "\n",
      "[2534 rows x 4 columns]\n"
     ]
    }
   ],
   "source": [
    "print(df_all)"
   ]
  },
  {
   "cell_type": "markdown",
   "id": "0afdefeb",
   "metadata": {},
   "source": [
    "### Extract csv"
   ]
  },
  {
   "cell_type": "code",
   "execution_count": 27,
   "id": "5effbd2d",
   "metadata": {},
   "outputs": [],
   "source": [
    "df_all.to_csv('dataset_5sec_final.csv')"
   ]
  }
 ],
 "metadata": {
  "kernelspec": {
   "display_name": "Python 3",
   "language": "python",
   "name": "python3"
  },
  "language_info": {
   "codemirror_mode": {
    "name": "ipython",
    "version": 3
   },
   "file_extension": ".py",
   "mimetype": "text/x-python",
   "name": "python",
   "nbconvert_exporter": "python",
   "pygments_lexer": "ipython3",
   "version": "3.8.8"
  }
 },
 "nbformat": 4,
 "nbformat_minor": 5
}
